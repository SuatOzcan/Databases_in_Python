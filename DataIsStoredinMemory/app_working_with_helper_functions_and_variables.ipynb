{
 "cells": [
  {
   "cell_type": "code",
   "execution_count": 1,
   "metadata": {},
   "outputs": [],
   "source": [
    "from utils.helper_functions_and_variables import dictionary_of_functions #\n",
    "from utils.helper_functions_and_variables import USER_CHOICE #\n",
    "#from utils import helper_functions_and_variables"
   ]
  },
  {
   "cell_type": "code",
   "execution_count": 7,
   "metadata": {},
   "outputs": [],
   "source": [
    "#USER_CHOICE = helper_functions_and_variables.USER_CHOICE\n",
    "#dictionary_of_functions = helper_functions_and_variables.dictionary_of_functions"
   ]
  },
  {
   "cell_type": "code",
   "execution_count": 2,
   "metadata": {},
   "outputs": [],
   "source": [
    "def menu():\n",
    "    user_input = input(USER_CHOICE)\n",
    "    while user_input != \"q\":\n",
    "        if user_input in dictionary_of_functions.keys():\n",
    "            func = dictionary_of_functions[user_input]\n",
    "            func()\n",
    "        else:\n",
    "            print(\"You have entered an invalid character.\")\n",
    "        user_input = input(USER_CHOICE)"
   ]
  },
  {
   "cell_type": "code",
   "execution_count": null,
   "metadata": {},
   "outputs": [],
   "source": [
    "menu()"
   ]
  },
  {
   "cell_type": "code",
   "execution_count": null,
   "metadata": {},
   "outputs": [],
   "source": [
    "from utils.helper_functions_and_variables import dictionary_of_functions\n",
    "from utils.helper_functions_and_variables import USER_CHOICE\n",
    "from utils import helper_functions_and_variables\n",
    "helper_functions_and_variables.menu()"
   ]
  },
  {
   "cell_type": "code",
   "execution_count": 1,
   "metadata": {},
   "outputs": [],
   "source": [
    "from utils.helper_functions_and_variables import dictionary_of_functions #Functions are stored inside a dictionary. \n",
    "                                                    #Therefore, I do not need to import all of the helper_functions_and_variables.py file.\n",
    "from utils.helper_functions_and_variables import USER_CHOICE\n",
    "from utils.helper_functions_and_variables import menu"
   ]
  },
  {
   "cell_type": "code",
   "execution_count": 2,
   "metadata": {},
   "outputs": [
    {
     "name": "stdout",
     "output_type": "stream",
     "text": [
      "You have entered an invalid character.\n",
      "You have listed all your books. Cheers!\n",
      "You have listed all your books. Cheers!\n",
      "Your book has been added to the library. Congratulations!\n",
      "Book Name: Roses. Author: William. Is book read? False.\n",
      "You have listed all your books. Cheers!\n",
      "You have marked your book read. Wonderful!\n",
      "Book Name: Roses. Author: William. Is book read? True.\n",
      "You have listed all your books. Cheers!\n",
      "Book Name: Roses. Author: William. Is book read? True.\n",
      "You have listed all your books. Cheers!\n"
     ]
    }
   ],
   "source": [
    "menu()"
   ]
  }
 ],
 "metadata": {
  "kernelspec": {
   "display_name": "Python 3",
   "language": "python",
   "name": "python3"
  },
  "language_info": {
   "codemirror_mode": {
    "name": "ipython",
    "version": 3
   },
   "file_extension": ".py",
   "mimetype": "text/x-python",
   "name": "python",
   "nbconvert_exporter": "python",
   "pygments_lexer": "ipython3",
   "version": "3.9.7"
  },
  "orig_nbformat": 4
 },
 "nbformat": 4,
 "nbformat_minor": 2
}
