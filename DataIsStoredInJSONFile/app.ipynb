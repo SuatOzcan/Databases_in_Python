{
 "cells": [
  {
   "cell_type": "code",
   "execution_count": 1,
   "metadata": {},
   "outputs": [],
   "source": [
    "from utils import database"
   ]
  },
  {
   "cell_type": "code",
   "execution_count": 2,
   "metadata": {},
   "outputs": [],
   "source": [
    "USER_CHOICE = \"\"\"\n",
    "Enter:\n",
    "- \"a\" to add a new book\n",
    "- \"l\" to list all your books\n",
    "- \"r\" to mark a book as read\n",
    "- \"d\" to delete a book\n",
    "- \"q\" to quit\n",
    "\n",
    "Your choice:\n",
    "\"\"\""
   ]
  },
  {
   "cell_type": "code",
   "execution_count": 3,
   "metadata": {},
   "outputs": [],
   "source": [
    "def prompt_add_book():\n",
    "    book_name = input(\"Please enter the name of the book: \")\n",
    "    author_name = input(\"Please enter the name of the author of the book: \")\n",
    "    database.add_book_to_library(book_name, author_name)\n",
    "    print(\"Your book has been added to the library. Congratulations!\")\n",
    "\n",
    "def list_books():\n",
    "    database.get_all_books_in_library_and_print_them()\n",
    "    print(\"You have listed all your books. Cheers!\")\n",
    "\n",
    "def prompt_read_book():\n",
    "    read_book_name = input(\"Please enter the name of the book you've read: \")\n",
    "    read_book_author = input(\"Please enter the author of the book you've read: \")\n",
    "    database.mark_book_as_read(read_book_name, read_book_author)\n",
    "    print(\"You have marked your book read. Wonderful!\")\n",
    "\n",
    "def prompt_delete_book():\n",
    "    delete_book_name = input(\"Please enter the name of the book you want to delete: \")\n",
    "    delete_book_author = input(\"Please enter the author of the book you want to delete: \")\n",
    "    database.delete_book(delete_book_name, delete_book_author)\n",
    "    print(\"You have deleted your book from your library. Congratulations!\")"
   ]
  },
  {
   "cell_type": "code",
   "execution_count": 4,
   "metadata": {},
   "outputs": [],
   "source": [
    "dictionary_of_functions = {\"a\" : prompt_add_book, \n",
    "                           \"l\" : list_books, \n",
    "                           \"r\" : prompt_read_book, \n",
    "                           \"d\" : prompt_delete_book, \n",
    "                            }"
   ]
  },
  {
   "cell_type": "code",
   "execution_count": 5,
   "metadata": {},
   "outputs": [],
   "source": [
    "def menu():\n",
    "    database.create_book_table()\n",
    "    user_input = input(USER_CHOICE)\n",
    "    while user_input != \"q\":\n",
    "        if user_input in dictionary_of_functions.keys():\n",
    "            func = dictionary_of_functions[user_input]\n",
    "            func()\n",
    "        else:\n",
    "            print(\"You have entered an invalid character.\")\n",
    "        user_input = input(USER_CHOICE)"
   ]
  },
  {
   "cell_type": "code",
   "execution_count": 6,
   "metadata": {},
   "outputs": [
    {
     "name": "stdout",
     "output_type": "stream",
     "text": [
      "You have listed all your books. Cheers!\n",
      "You have listed all your books. Cheers!\n",
      "You have deleted your bo     ok from your library. Congratulations!\n",
      "You have marked your book read. Wonderful!\n",
      "You have deleted your bo     ok from your library. Congratulations!\n"
     ]
    }
   ],
   "source": [
    "menu()"
   ]
  }
 ],
 "metadata": {
  "kernelspec": {
   "display_name": "Python 3",
   "language": "python",
   "name": "python3"
  },
  "language_info": {
   "codemirror_mode": {
    "name": "ipython",
    "version": 3
   },
   "file_extension": ".py",
   "mimetype": "text/x-python",
   "name": "python",
   "nbconvert_exporter": "python",
   "pygments_lexer": "ipython3",
   "version": "3.9.7"
  },
  "orig_nbformat": 4
 },
 "nbformat": 4,
 "nbformat_minor": 2
}
